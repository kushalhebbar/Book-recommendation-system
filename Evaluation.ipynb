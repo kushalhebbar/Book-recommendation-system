{
 "cells": [
  {
   "cell_type": "code",
   "execution_count": 110,
   "metadata": {},
   "outputs": [],
   "source": [
    "import networkx as nx\n",
    "import matplotlib.pyplot as plt\n",
    "import pandas as pd\n",
    "import random\n",
    "from colorama import Fore\n",
    "from colorama import Style\n",
    "import time\n",
    "from datetime import timedelta\n",
    "\n",
    "edgecount=383842 #number of ratings\n",
    "usercount=278854 #number of users\n",
    "bookcount=271361 #number of books\n",
    "\n",
    "G=nx.Graph()\n",
    "G_test=nx.Graph()\n",
    "N=pd.read_csv('final.csv') #input weighted edgelist - column 1 - source, column 2 - target, column 3 - rating\n",
    "Books=pd.read_csv('new_books.csv') #input books database\n",
    "\n",
    "for i in range(edgecount): #forming weighted graph\n",
    "    G.add_node(N.Book[i])\n",
    "    G.add_node(N.User[i])\n",
    "    G.add_edge(N.User[i],N.Book[i], weight=N.Rating[i])"
   ]
  },
  {
   "cell_type": "code",
   "execution_count": 369,
   "metadata": {},
   "outputs": [
    {
     "name": "stdout",
     "output_type": "stream",
     "text": [
      "Enter number of sample users\n",
      "5\n"
     ]
    }
   ],
   "source": [
    "print(\"Enter number of sample users\")\n",
    "n_users=int(input())"
   ]
  },
  {
   "cell_type": "code",
   "execution_count": 370,
   "metadata": {},
   "outputs": [],
   "source": [
    "sample_users1=[]\n",
    "for x in list(set(N.User)):\n",
    "    if G.has_node(x):\n",
    "        if G.degree(x)>=8:\n",
    "            sample_users1.append(x)\n",
    "sample_users=random.sample(sample_users1, n_users)"
   ]
  },
  {
   "cell_type": "code",
   "execution_count": 374,
   "metadata": {},
   "outputs": [],
   "source": [
    "#reco_user=32773\n",
    "sample_reading_lists = []\n",
    "\n",
    "for x in sample_users:\n",
    "    if x in G.nodes():\n",
    "        avg_rating=G.degree(x, weight='weight')/G.degree(x)\n",
    "        user_fav=[]\n",
    "        for i in set(N.Book):\n",
    "            if G.has_edge(x, i):\n",
    "                if G[x][i]['weight']>=avg_rating:\n",
    "                    user_fav.append(i)\n",
    "\n",
    "        user_fav.sort(reverse=True)\n",
    "        sample_reading_lists.append(user_fav[:10])\n",
    "\n",
    "train_list=[]\n",
    "\n",
    "for i in range(w):\n",
    "    train_list.append(sample_reading_lists[i][:10])\n",
    "w=len(sample_reading_lists)\n",
    "temp_user=list(set(N.User))\n",
    "temp_user.sort()\n",
    "\n",
    "#the next cell is where the evaluation happens. It might take a few minutes."
   ]
  },
  {
   "cell_type": "code",
   "execution_count": 375,
   "metadata": {},
   "outputs": [],
   "source": [
    "#subgraph formation using G\n",
    "start_time=time.monotonic()\n",
    "\n",
    "tp=0\n",
    "tn=0\n",
    "fp=0\n",
    "fn=0\n",
    "count=0\n",
    "catalog=0\n",
    "\n",
    "\n",
    "for y in range(w):\n",
    "    wt=[]\n",
    "    row=[0]*(usercount+bookcount+1)\n",
    "    for i in range(usercount+bookcount+1):\n",
    "        wt.append(row)\n",
    "    \n",
    "    Z=nx.Graph()\n",
    "    \n",
    "    for x in train_list[y]:\n",
    "        for i in temp_user:\n",
    "            for j in list(G.neighbors(i)): \n",
    "                if G.has_edge(i,x) and G.has_edge(i,j) and j!=x:\n",
    "                    wt[j][x]=wt[j][x]+1\n",
    "                    Z.add_node(j, node_weight=G.degree(j,weight='weight')/G.degree(j))\n",
    "                    Z.add_node(x, node_weight=G.degree(x,weight='weight')/G.degree(x))\n",
    "                    Z.add_edge(j,x, weight=wt[j][x])\n",
    "#common neighbors    \n",
    "    temp=train_list[y]\n",
    "    for i in temp:\n",
    "        if i not in Z.nodes():\n",
    "            temp.remove(i)\n",
    "\n",
    "    to_read1=list(set(Z.neighbors(temp[0])))\n",
    "\n",
    "    for i in temp:\n",
    "        to_read1=list(set(Z.neighbors(i)).intersection(to_read1))\n",
    "    \n",
    "    tempx=[]\n",
    "    for x in train_list[y]:\n",
    "        for q in train_list[y]:\n",
    "            if G.has_node(x) and G.has_node(q):\n",
    "                if nx.has_path(G,x,q):\n",
    "                    temp=list(nx.shortest_path(G, source=x, target=q))\n",
    "                    tempx.append(temp)\n",
    "    if len(tempx)>=2:\n",
    "        to_read2=list(set(tempx[0]).intersection(tempx[1]))\n",
    "\n",
    "#finding common elements in the shortest paths\n",
    "\n",
    "        for i in range(len(tempx)):\n",
    "            to_read2=list(set(tempx[i]).intersection(to_read2))\n",
    "\n",
    "    to_read=list(set(to_read1) | set(to_read2))\n",
    "    \n",
    "    if not to_read:\n",
    "        to_read=random.sample(list(Z), min(nx.number_of_nodes(Z),2))\n",
    "\n",
    "    for i in reading_list:\n",
    "        if i in to_read:\n",
    "            to_read.remove(i)\n",
    "            \n",
    "    for i in to_read:\n",
    "        if i in list(G.neighbors(sample_users[count])):\n",
    "            tp=tp+1\n",
    "        else:\n",
    "            fp=fp+1\n",
    "    catalog=catalog+max(10,len(to_read))\n",
    "    count=count+1  \n",
    "\n",
    "end_time=time.monotonic()"
   ]
  },
  {
   "cell_type": "code",
   "execution_count": 376,
   "metadata": {},
   "outputs": [
    {
     "name": "stdout",
     "output_type": "stream",
     "text": [
      "true positive= 22\n",
      "false positive= 3\n",
      "precision= 88.0\n",
      "5\n",
      "0:00:30.203000\n"
     ]
    }
   ],
   "source": [
    "print(\"true positive=\", tp)\n",
    "print(\"false positive=\", fp)\n",
    "print(\"precision=\", 100*tp/(tp+fp))\n",
    "print(count)\n",
    "print(timedelta(seconds=end_time-start_time))"
   ]
  },
  {
   "cell_type": "code",
   "execution_count": null,
   "metadata": {},
   "outputs": [],
   "source": []
  }
 ],
 "metadata": {
  "kernelspec": {
   "display_name": "Python 3",
   "language": "python",
   "name": "python3"
  },
  "language_info": {
   "codemirror_mode": {
    "name": "ipython",
    "version": 3
   },
   "file_extension": ".py",
   "mimetype": "text/x-python",
   "name": "python",
   "nbconvert_exporter": "python",
   "pygments_lexer": "ipython3",
   "version": "3.6.5"
  }
 },
 "nbformat": 4,
 "nbformat_minor": 2
}
